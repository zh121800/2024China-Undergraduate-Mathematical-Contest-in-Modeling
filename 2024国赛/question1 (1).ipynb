{
 "cells": [
  {
   "cell_type": "code",
   "execution_count": 41,
   "id": "initial_id",
   "metadata": {
    "collapsed": true,
    "ExecuteTime": {
     "end_time": "2024-09-06T14:01:35.104871300Z",
     "start_time": "2024-09-06T14:01:35.095862500Z"
    }
   },
   "outputs": [],
   "source": [
    "from pulp import LpMaximize, LpProblem, LpVariable, lpSum\n",
    "import pandas as pd\n",
    "import numpy as np\n",
    "import os"
   ]
  },
  {
   "cell_type": "code",
   "outputs": [],
   "source": [
    "model = LpProblem(name=\"profit-optimization\", sense=LpMaximize)"
   ],
   "metadata": {
    "collapsed": false,
    "ExecuteTime": {
     "end_time": "2024-09-06T14:01:36.557664300Z",
     "start_time": "2024-09-06T14:01:36.538639500Z"
    }
   },
   "id": "f4ac4bc1d01d6684",
   "execution_count": 42
  },
  {
   "cell_type": "code",
   "outputs": [
    {
     "data": {
      "text/plain": "['黄豆',\n '黑豆',\n '红豆',\n '绿豆',\n '爬豆',\n '小麦',\n '玉米',\n '谷子',\n '高粱',\n '黍子',\n '荞麦',\n '南瓜',\n '红薯',\n '莜麦',\n '大麦',\n '水稻',\n '豇豆',\n '刀豆',\n '芸豆',\n '土豆',\n '西红柿',\n '茄子',\n '菠菜 ',\n '青椒',\n '菜花',\n '包菜',\n '油麦菜',\n '小青菜',\n '黄瓜',\n '生菜 ',\n '辣椒',\n '空心菜',\n '黄心菜',\n '芹菜',\n '大白菜',\n '白萝卜',\n '红萝卜',\n '榆黄菇',\n '香菇',\n '白灵菇',\n '羊肚菌']"
     },
     "execution_count": 43,
     "metadata": {},
     "output_type": "execute_result"
    }
   ],
   "source": [
    "# 读取Excel文件\n",
    "df1 = pd.read_excel('/home/maxdmx/math-China/附件1(1).xlsx')\n",
    "column_name_1 = '地块名称'\n",
    "column_data_1 = df1[column_name_1].tolist()\n",
    "\n",
    "df2 = pd.read_excel('/home/maxdmx/math-China/附件1(2).xlsx')\n",
    "column_name_2 = '作物名称'\n",
    "column_data_2 =df2[column_name_2].tolist()\n",
    "column_data_2"
   ],
   "metadata": {
    "collapsed": false,
    "ExecuteTime": {
     "end_time": "2024-09-06T14:01:37.208983800Z",
     "start_time": "2024-09-06T14:01:37.010255Z"
    }
   },
   "id": "714b6ee195dc8290",
   "execution_count": 43
  },
  {
   "cell_type": "code",
   "outputs": [],
   "source": [
    "years = list(range(2024, 2031))  # 2024到2030年\n",
    "seasons = [1, 2]  # 两个种植季节\n",
    "crops = list(range(1, 42))  # 41种作物\n",
    "fields = list(range(1, 55))  # 54块地"
   ],
   "metadata": {
    "collapsed": false,
    "ExecuteTime": {
     "end_time": "2024-09-06T14:01:38.487585800Z",
     "start_time": "2024-09-06T14:01:38.481584500Z"
    }
   },
   "id": "a24b4e85dfd1b044",
   "execution_count": 44
  },
  {
   "cell_type": "code",
   "outputs": [],
   "source": [
    "# 定义决策变量，X[i][j][k] 表示第 i 作物在第 j 地块的第 k 季度种植面积\n",
    "X = LpVariable.dicts(\"X\", (crops, fields, seasons, years), lowBound=0, cat='Continuous')"
   ],
   "metadata": {
    "collapsed": false,
    "ExecuteTime": {
     "end_time": "2024-09-06T14:01:40.832430Z",
     "start_time": "2024-09-06T14:01:40.713381400Z"
    }
   },
   "id": "fb66d6811c15db9c",
   "execution_count": 45
  },
  {
   "cell_type": "code",
   "outputs": [],
   "source": [
    "df3 = pd.read_excel('/home/maxdmx/math-China/附件2(2)1.xlsx')\n",
    "\n",
    "npyields = np.zeros((42,55,3))\n",
    "npcosts = np.zeros((42,55,3))\n",
    "# 遍历每一行并提取所需的列\n",
    "for index, row in df3.iterrows():\n",
    "    crop_id = row['作物编号']        # 提取作物编号\n",
    "    plot_type = row['地块类型']      # 提取地块类型\n",
    "    planting_season = row['种植季次']  # 提取种植季次\n",
    "    yield_per_acre = row['亩产量/斤']  # 提取亩产量\n",
    "    cost_per_acre = row['种植成本/(元/亩)']\n",
    "    if plot_type == '平旱地':\n",
    "        listtemp1=[1,2,3,4,5,6]\n",
    "    elif plot_type == '梯田':\n",
    "        listtemp1=[7,8,9,10,11,12,13,14,15,16,17,18,19,20]\n",
    "    elif plot_type == '山坡地':\n",
    "        listtemp1=[21,22,23,24,25,26]\n",
    "    elif plot_type == '水浇地':\n",
    "        listtemp1=[27,28,29,30,31,32,33,34]\n",
    "    elif plot_type == '普通大棚':\n",
    "        listtemp1=[35,36,37,38,39,40,41,42,43,44,45,46,47,48,49,50]\n",
    "    elif plot_type == '智慧大棚':\n",
    "        listtemp1=[51,52,53,54]\n",
    "\n",
    "    if planting_season=='单季' or planting_season=='第一季':\n",
    "        ps=1\n",
    "    else:\n",
    "        ps=2\n",
    "    for t in listtemp1:\n",
    "        npyields[crop_id,t,ps]=yield_per_acre\n",
    "        npcosts[crop_id,t,ps]=cost_per_acre\n",
    "costs=npcosts.tolist()\n",
    "yields=npyields.tolist()"
   ],
   "metadata": {
    "collapsed": false,
    "ExecuteTime": {
     "end_time": "2024-09-06T14:01:40.866896500Z",
     "start_time": "2024-09-06T14:01:40.841428100Z"
    }
   },
   "id": "5ce88fc9afc2888b",
   "execution_count": 46
  },
  {
   "cell_type": "code",
   "outputs": [],
   "source": [
    "df4 = pd.read_excel('/home/maxdmx/math-China/Ec.xlsx')\n",
    "\n",
    "column_name_3 = '作物编号'\n",
    "column_name_4 = '2023总产量'\n",
    "column_data_3 = df4[column_name_3].tolist()\n",
    "column_data_4 = df4[column_name_4].tolist()\n",
    "npexpected_sales=np.zeros(42)\n",
    "for i,j in zip(column_data_3,column_data_4):\n",
    "    npexpected_sales[i]=j\n",
    "expected_sales=npexpected_sales.tolist()"
   ],
   "metadata": {
    "collapsed": false,
    "ExecuteTime": {
     "end_time": "2024-09-06T14:01:40.882429400Z",
     "start_time": "2024-09-06T14:01:40.872900Z"
    }
   },
   "id": "8e8d156b4d9fb593",
   "execution_count": 47
  },
  {
   "cell_type": "code",
   "outputs": [],
   "source": [
    "df5 = pd.read_excel('/home/maxdmx/math-China/updated_附件2(2)1.xlsx')\n",
    "column_name_5 = '作物编号'\n",
    "column_name_6 = '2023总产量'\n",
    "column_data_5 = df4[column_name_5].tolist()\n",
    "column_data_6 = df4[column_name_6].tolist()\n",
    "npprices=np.zeros(42)\n",
    "for i,j in zip(column_data_5,column_data_6):\n",
    "    npexpected_sales[i]=j\n",
    "prices=npprices.tolist()"
   ],
   "metadata": {
    "collapsed": false,
    "ExecuteTime": {
     "end_time": "2024-09-06T14:21:23.233563200Z",
     "start_time": "2024-09-06T14:21:23.183452900Z"
    }
   },
   "id": "264eec60c211c46d",
   "execution_count": 53
  },
  {
   "cell_type": "code",
   "outputs": [
    {
     "ename": "TypeError",
     "evalue": "'<' not supported between instances of 'float' and 'LpAffineExpression'",
     "output_type": "error",
     "traceback": [
      "\u001B[0;31m---------------------------------------------------------------------------\u001B[0m",
      "\u001B[0;31mTypeError\u001B[0m                                 Traceback (most recent call last)",
      "Cell \u001B[0;32mIn[55], line 2\u001B[0m\n\u001B[1;32m      1\u001B[0m \u001B[38;5;66;03m# 目标函数1: 滞销浪费情况下的利润最大化\u001B[39;00m\n\u001B[0;32m----> 2\u001B[0m model \u001B[38;5;241m+\u001B[39m\u001B[38;5;241m=\u001B[39m lpSum([lpSum([\u001B[38;5;28mmin\u001B[39m(lpSum([lpSum([yields[c] [l][ s] \u001B[38;5;241m*\u001B[39m X[c][l][s][y] \u001B[38;5;28;01mfor\u001B[39;00m l \u001B[38;5;129;01min\u001B[39;00m fields]) \u001B[38;5;28;01mfor\u001B[39;00m s \u001B[38;5;129;01min\u001B[39;00m seasons]),   expected_sales[c])\u001B[38;5;241m*\u001B[39mprices[c]\u001B[38;5;241m-\u001B[39mlpSum([lpSum([costs[c][ l][ s] \u001B[38;5;241m*\u001B[39m X[c][l][s][y] \u001B[38;5;28;01mfor\u001B[39;00m l \u001B[38;5;129;01min\u001B[39;00m fields]) \u001B[38;5;28;01mfor\u001B[39;00m s \u001B[38;5;129;01min\u001B[39;00m seasons])\u001B[38;5;28;01mfor\u001B[39;00m c \u001B[38;5;129;01min\u001B[39;00m crops])\u001B[38;5;28;01mfor\u001B[39;00m y \u001B[38;5;129;01min\u001B[39;00m years])\n",
      "Cell \u001B[0;32mIn[55], line 2\u001B[0m, in \u001B[0;36m<listcomp>\u001B[0;34m(.0)\u001B[0m\n\u001B[1;32m      1\u001B[0m \u001B[38;5;66;03m# 目标函数1: 滞销浪费情况下的利润最大化\u001B[39;00m\n\u001B[0;32m----> 2\u001B[0m model \u001B[38;5;241m+\u001B[39m\u001B[38;5;241m=\u001B[39m lpSum([lpSum([\u001B[38;5;28mmin\u001B[39m(lpSum([lpSum([yields[c] [l][ s] \u001B[38;5;241m*\u001B[39m X[c][l][s][y] \u001B[38;5;28;01mfor\u001B[39;00m l \u001B[38;5;129;01min\u001B[39;00m fields]) \u001B[38;5;28;01mfor\u001B[39;00m s \u001B[38;5;129;01min\u001B[39;00m seasons]),   expected_sales[c])\u001B[38;5;241m*\u001B[39mprices[c]\u001B[38;5;241m-\u001B[39mlpSum([lpSum([costs[c][ l][ s] \u001B[38;5;241m*\u001B[39m X[c][l][s][y] \u001B[38;5;28;01mfor\u001B[39;00m l \u001B[38;5;129;01min\u001B[39;00m fields]) \u001B[38;5;28;01mfor\u001B[39;00m s \u001B[38;5;129;01min\u001B[39;00m seasons])\u001B[38;5;28;01mfor\u001B[39;00m c \u001B[38;5;129;01min\u001B[39;00m crops])\u001B[38;5;28;01mfor\u001B[39;00m y \u001B[38;5;129;01min\u001B[39;00m years])\n",
      "Cell \u001B[0;32mIn[55], line 2\u001B[0m, in \u001B[0;36m<listcomp>\u001B[0;34m(.0)\u001B[0m\n\u001B[1;32m      1\u001B[0m \u001B[38;5;66;03m# 目标函数1: 滞销浪费情况下的利润最大化\u001B[39;00m\n\u001B[0;32m----> 2\u001B[0m model \u001B[38;5;241m+\u001B[39m\u001B[38;5;241m=\u001B[39m lpSum([lpSum([\u001B[38;5;28;43mmin\u001B[39;49m\u001B[43m(\u001B[49m\u001B[43mlpSum\u001B[49m\u001B[43m(\u001B[49m\u001B[43m[\u001B[49m\u001B[43mlpSum\u001B[49m\u001B[43m(\u001B[49m\u001B[43m[\u001B[49m\u001B[43myields\u001B[49m\u001B[43m[\u001B[49m\u001B[43mc\u001B[49m\u001B[43m]\u001B[49m\u001B[43m \u001B[49m\u001B[43m[\u001B[49m\u001B[43ml\u001B[49m\u001B[43m]\u001B[49m\u001B[43m[\u001B[49m\u001B[43m \u001B[49m\u001B[43ms\u001B[49m\u001B[43m]\u001B[49m\u001B[43m \u001B[49m\u001B[38;5;241;43m*\u001B[39;49m\u001B[43m \u001B[49m\u001B[43mX\u001B[49m\u001B[43m[\u001B[49m\u001B[43mc\u001B[49m\u001B[43m]\u001B[49m\u001B[43m[\u001B[49m\u001B[43ml\u001B[49m\u001B[43m]\u001B[49m\u001B[43m[\u001B[49m\u001B[43ms\u001B[49m\u001B[43m]\u001B[49m\u001B[43m[\u001B[49m\u001B[43my\u001B[49m\u001B[43m]\u001B[49m\u001B[43m \u001B[49m\u001B[38;5;28;43;01mfor\u001B[39;49;00m\u001B[43m \u001B[49m\u001B[43ml\u001B[49m\u001B[43m \u001B[49m\u001B[38;5;129;43;01min\u001B[39;49;00m\u001B[43m \u001B[49m\u001B[43mfields\u001B[49m\u001B[43m]\u001B[49m\u001B[43m)\u001B[49m\u001B[43m \u001B[49m\u001B[38;5;28;43;01mfor\u001B[39;49;00m\u001B[43m \u001B[49m\u001B[43ms\u001B[49m\u001B[43m \u001B[49m\u001B[38;5;129;43;01min\u001B[39;49;00m\u001B[43m \u001B[49m\u001B[43mseasons\u001B[49m\u001B[43m]\u001B[49m\u001B[43m)\u001B[49m\u001B[43m,\u001B[49m\u001B[43m   \u001B[49m\u001B[43mexpected_sales\u001B[49m\u001B[43m[\u001B[49m\u001B[43mc\u001B[49m\u001B[43m]\u001B[49m\u001B[43m)\u001B[49m\u001B[38;5;241m*\u001B[39mprices[c]\u001B[38;5;241m-\u001B[39mlpSum([lpSum([costs[c][ l][ s] \u001B[38;5;241m*\u001B[39m X[c][l][s][y] \u001B[38;5;28;01mfor\u001B[39;00m l \u001B[38;5;129;01min\u001B[39;00m fields]) \u001B[38;5;28;01mfor\u001B[39;00m s \u001B[38;5;129;01min\u001B[39;00m seasons])\u001B[38;5;28;01mfor\u001B[39;00m c \u001B[38;5;129;01min\u001B[39;00m crops])\u001B[38;5;28;01mfor\u001B[39;00m y \u001B[38;5;129;01min\u001B[39;00m years])\n",
      "\u001B[0;31mTypeError\u001B[0m: '<' not supported between instances of 'float' and 'LpAffineExpression'"
     ]
    }
   ],
   "source": [
    "# 目标函数1: 滞销浪费情况下的利润最大化\n",
    "# model += lpSum([lpSum([min(lpSum([lpSum([yields[c] [l][ s] * X[c][l][s][y] for l in fields]) for s in seasons]),   expected_sales[c])*prices[c]-lpSum([lpSum([costs[c][ l][ s] * X[c][l][s][y] for l in fields]) for s in seasons])for c in crops])for y in years])\n"
   ],
   "metadata": {
    "collapsed": false,
    "ExecuteTime": {
     "end_time": "2024-09-06T14:23:58.615431800Z",
     "start_time": "2024-09-06T14:23:58.595682900Z"
    }
   },
   "id": "b29086f45429e2fe",
   "execution_count": 55
  },
  {
   "cell_type": "code",
   "outputs": [],
   "source": [],
   "metadata": {
    "collapsed": false
   },
   "id": "7d92a9cc2e163ee2"
  }
 ],
 "metadata": {
  "kernelspec": {
   "display_name": "Python 3",
   "language": "python",
   "name": "python3"
  },
  "language_info": {
   "codemirror_mode": {
    "name": "ipython",
    "version": 2
   },
   "file_extension": ".py",
   "mimetype": "text/x-python",
   "name": "python",
   "nbconvert_exporter": "python",
   "pygments_lexer": "ipython2",
   "version": "2.7.6"
  }
 },
 "nbformat": 4,
 "nbformat_minor": 5
}
