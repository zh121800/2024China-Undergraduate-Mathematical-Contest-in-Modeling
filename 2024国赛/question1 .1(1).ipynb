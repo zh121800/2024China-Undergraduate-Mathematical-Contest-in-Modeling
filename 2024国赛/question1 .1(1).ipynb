{
 "cells": [
  {
   "cell_type": "code",
   "execution_count": 20,
   "id": "initial_id",
   "metadata": {
    "ExecuteTime": {
     "end_time": "2024-09-06T09:18:17.568667800Z",
     "start_time": "2024-09-06T09:18:17.299221800Z"
    },
    "collapsed": true
   },
   "outputs": [],
   "source": [
    "from pulp import LpMaximize, LpProblem, LpVariable, lpSum\n",
    "import pandas as pd\n",
    "import numpy as np\n",
    "import os"
   ]
  },
  {
   "cell_type": "code",
   "execution_count": 27,
   "id": "f4ac4bc1d01d6684",
   "metadata": {
    "ExecuteTime": {
     "end_time": "2024-09-06T09:51:11.314092400Z",
     "start_time": "2024-09-06T09:51:11.302580Z"
    },
    "collapsed": false
   },
   "outputs": [],
   "source": [
    "model = LpProblem(name=\"profit-optimization\", sense=LpMaximize)"
   ]
  },
  {
   "cell_type": "markdown",
   "id": "cde5becf",
   "metadata": {},
   "source": []
  },
  {
   "cell_type": "code",
   "execution_count": 28,
   "id": "714b6ee195dc8290",
   "metadata": {
    "ExecuteTime": {
     "end_time": "2024-09-06T09:51:14.674307800Z",
     "start_time": "2024-09-06T09:51:14.637572400Z"
    },
    "collapsed": false
   },
   "outputs": [
    {
     "data": {
      "text/plain": [
       "['黄豆',\n",
       " '黑豆',\n",
       " '红豆',\n",
       " '绿豆',\n",
       " '爬豆',\n",
       " '小麦',\n",
       " '玉米',\n",
       " '谷子',\n",
       " '高粱',\n",
       " '黍子',\n",
       " '荞麦',\n",
       " '南瓜',\n",
       " '红薯',\n",
       " '莜麦',\n",
       " '大麦',\n",
       " '水稻',\n",
       " '豇豆',\n",
       " '刀豆',\n",
       " '芸豆',\n",
       " '土豆',\n",
       " '西红柿',\n",
       " '茄子',\n",
       " '菠菜 ',\n",
       " '青椒',\n",
       " '菜花',\n",
       " '包菜',\n",
       " '油麦菜',\n",
       " '小青菜',\n",
       " '黄瓜',\n",
       " '生菜 ',\n",
       " '辣椒',\n",
       " '空心菜',\n",
       " '黄心菜',\n",
       " '芹菜',\n",
       " '大白菜',\n",
       " '白萝卜',\n",
       " '红萝卜',\n",
       " '榆黄菇',\n",
       " '香菇',\n",
       " '白灵菇',\n",
       " '羊肚菌']"
      ]
     },
     "execution_count": 28,
     "metadata": {},
     "output_type": "execute_result"
    }
   ],
   "source": [
    "# 读取Excel文件\n",
    "df1 = pd.read_excel('/home/maxdmx/math-China/附件1(1).xlsx')\n",
    "column_name_1 = '地块名称'\n",
    "column_data_1 = df1[column_name_1].tolist()\n",
    "\n",
    "df2 = pd.read_excel('/home/maxdmx/math-China/附件1(2).xlsx')\n",
    "column_name_2 = '作物名称'\n",
    "column_data_2 =df2[column_name_2].tolist()\n",
    "column_data_2"
   ]
  },
  {
   "cell_type": "code",
   "execution_count": 29,
   "id": "a24b4e85dfd1b044",
   "metadata": {
    "ExecuteTime": {
     "end_time": "2024-09-06T09:51:17.582433600Z",
     "start_time": "2024-09-06T09:51:17.577433400Z"
    },
    "collapsed": false
   },
   "outputs": [],
   "source": [
    "years = list(range(2024, 2031))  # 2024到2030年\n",
    "seasons = [1, 2]  # 两个种植季节\n",
    "crops = list(range(1, 42))  # 41种作物\n",
    "fields = list(range(1, 55))  # 54块地"
   ]
  },
  {
   "cell_type": "code",
   "execution_count": 30,
   "id": "fb66d6811c15db9c",
   "metadata": {
    "ExecuteTime": {
     "end_time": "2024-09-06T09:51:19.531974500Z",
     "start_time": "2024-09-06T09:51:19.486898400Z"
    },
    "collapsed": false
   },
   "outputs": [],
   "source": [
    "# 定义决策变量，X[i][j][k] 表示第 i 作物在第 j 地块的第 k 季度种植面积\n",
    "X = LpVariable.dicts(\"X\", (crops, fields, seasons, years), lowBound=0, cat='Continuous')"
   ]
  },
  {
   "cell_type": "code",
   "execution_count": null,
   "id": "5ce88fc9afc2888b",
   "metadata": {
    "collapsed": false
   },
   "outputs": [],
   "source": [
    "df3 = pd.read_excel('/home/maxdmx/math-China/附件2(2)1..xlsx')\n",
    "yields=np.zeros((42,55,3))\n",
    "\n"
   ]
  },
  {
   "cell_type": "code",
   "execution_count": null,
   "id": "b29086f45429e2fe",
   "metadata": {
    "collapsed": false
   },
   "outputs": [],
   "source": [
    "# 目标函数1: 滞销浪费情况下的利润最大化\n",
    "prob += lpSum([lpSum([lpSum([lpSum(\n",
    "    [min(yields[c, l, s] * X[c][l][s][y], expected_sales[c]) * prices[c] - costs[c, l, s] * X[c][l][s][y]\n",
    "     for c in crops] for l in fields]) for s in seasons]) for y in years])"
   ]
  },
  {
   "cell_type": "code",
   "execution_count": null,
   "id": "8b4e29f5",
   "metadata": {},
   "outputs": [],
   "source": [
    "# 约束条件1: 作物种植面积不能超过地块总面积\n",
    "field_areas = {l: 55 for l in fields}  \n",
    "for y in years:\n",
    "    for s in seasons:\n",
    "        for l in fields:\n",
    "            prob += pulp.lpSum([X[c][l][s][y] for c in crops]) <= field_areas[l]"
   ]
  },
  {
   "cell_type": "code",
   "execution_count": null,
   "id": "995069a0",
   "metadata": {},
   "outputs": [],
   "source": [
    "# 约束条件2: 每个地块三年内至少种一次豆类作物\n",
    "beans = [1, 2, 3, 4, 5, 17, 18, 19] \n",
    "for l in fields:\n",
    "    for s in seasons:\n",
    "        for y in years[:-2]:\n",
    "            prob += pulp.lpSum([X[bean][l][s][y + i] for bean in beans for i in range(3)]) >0\n"
   ]
  },
  {
   "cell_type": "code",
   "execution_count": null,
   "id": "e30e94b3",
   "metadata": {},
   "outputs": [],
   "source": [
    "# 约束条件3: 分散性约束，某个作物不能在太多地块种植\n",
    "max_field_count = 3  # 每个作物每季最多种4个地块\n",
    "for y in years:\n",
    "    for s in seasons:\n",
    "        for c in crops:\n",
    "            prob += pulp.lpSum([X[c][l][s][y] > 0 for l in fields]) <= max_field_count\n"
   ]
  },
  {
   "cell_type": "code",
   "execution_count": null,
   "id": "056b7240",
   "metadata": {},
   "outputs": [],
   "source": [
    "#约束条件4:种植面积不能太小\n",
    "#定义B数组\n",
    "M =10000\n",
    "m = 0.001\n",
    "B = LpVariable.dicts(\"B\", (crops, fields, seasons, years), cat = 'Binary')\n",
    "# \n",
    "for c in crops:\n",
    "    for l in fields:\n",
    "        for s in seasons:\n",
    "            for y in years:\n",
    "                if X[c, l, s, y] > 0:\n",
    "                    B[c, l, s, y] = 1\n",
    "                else:\n",
    "                    B[c, l, s, y] = 0\n",
    "\n",
    "给B赋值\n",
    "for c in crops:\n",
    "    for l in fields:\n",
    "        for s in seasons:\n",
    "            for y in years:\n",
    "                # 约束：如果X[c][l][s][y] > 0，则B[c][l][s][y] 等于1，否则等于0\n",
    "                prob += X[c, l, s, y] <= M * B[c, l, s, y]\n",
    "                prob += X[c, l, s, y] >= m * B[c, l, s, y]\n"
   ]
  },
  {
   "cell_type": "code",
   "execution_count": null,
   "id": "f52b1439",
   "metadata": {},
   "outputs": [],
   "source": [
    "#约束条件5:轮作约束\n",
    "#对于平旱地\n",
    "for c in range(1,16):\n",
    "    for l in range(1,27):\n",
    "        for y in range(2023,2030):\n",
    "            prob += X[c, l, 1, y]*X[c, l, 1, y+1] == 0\n",
    "#对于智慧大棚\n",
    "for c in range(1,16):\n",
    "    for l in range(51,55):\n",
    "        for y in range(2023,2030):\n",
    "            prob += X[c, l, 1, y]*X[c, l, 1, y+1] +X[c, l, 2, y]*X[c, l, 2, y+1] == 0\n",
    "            "
   ]
  },
  {
   "cell_type": "code",
   "execution_count": null,
   "id": "3717f293",
   "metadata": {},
   "outputs": [],
   "source": [
    "#种植类别约束\n",
    "#对于平旱地，梯田，山坡:\n",
    "for c in range(1,16):\n",
    "    for l in range(1,27):\n",
    "            for y in years:\n",
    "                prob += X[c, l, 2, y] == 0 \n",
    "\n",
    "for c in range(17,42):\n",
    "     for l in range(1,27):\n",
    "          for s in range(1,3):\n",
    "            for y in years:\n",
    "                prob += X[c, l, s, y] == 0\n",
    "#对于水浇地:\n",
    "for l in range(27,35):\n",
    "     for y in years:\n",
    "          if c>=35 or c<=16:\n",
    "               prob += X[c,l,1,y]==0\n",
    "               prob += X[c,l,2,y]==0\n",
    "#对于普通大棚类:\n",
    "for l in range(35,51):\n",
    "     for y in years:\n",
    "          if c>=35 or c<=16:\n",
    "               prob += X[c,l,1,y]==0\n",
    "          if c>=42 or c<=37:\n",
    "               prob += X[c,l,2,y]==0\n",
    "#对于智慧大棚类:\n",
    "for l in range(51,55):\n",
    "     for s in range(1,3):\n",
    "        for y in years:\n",
    "             if c>=35 or c<=16:\n",
    "                  prob += X[c,l,s,y]==0\n",
    "          \n",
    "               \n",
    "               \n",
    "\n",
    "\n"
   ]
  }
 ],
 "metadata": {
  "kernelspec": {
   "display_name": "Python 3",
   "language": "python",
   "name": "python3"
  },
  "language_info": {
   "codemirror_mode": {
    "name": "ipython",
    "version": 2
   },
   "file_extension": ".py",
   "mimetype": "text/x-python",
   "name": "python",
   "nbconvert_exporter": "python",
   "pygments_lexer": "ipython2",
   "version": "2.7.6"
  }
 },
 "nbformat": 4,
 "nbformat_minor": 5
}
