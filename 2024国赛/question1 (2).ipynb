{
 "cells": [
  {
   "cell_type": "code",
   "id": "initial_id",
   "metadata": {
    "collapsed": true,
    "ExecuteTime": {
     "end_time": "2024-09-07T07:13:01.937674Z",
     "start_time": "2024-09-07T07:13:01.367474Z"
    }
   },
   "source": [
    "from pulp import LpMaximize, LpProblem, LpVariable, lpSum\n",
    "import scipy\n",
    "import pandas as pd\n",
    "import numpy as np\n",
    "import os"
   ],
   "outputs": [],
   "execution_count": 2
  },
  {
   "cell_type": "code",
   "source": [
    "model = LpProblem(name=\"profit-optimization\", sense=LpMaximize)"
   ],
   "metadata": {
    "collapsed": false,
    "ExecuteTime": {
     "end_time": "2024-09-07T07:13:02.424142Z",
     "start_time": "2024-09-07T07:13:02.421163Z"
    }
   },
   "id": "f4ac4bc1d01d6684",
   "outputs": [],
   "execution_count": 3
  },
  {
   "cell_type": "code",
   "source": [
    "# 读取Excel文件\n",
    "df1 = pd.read_excel('./附件1.1.xlsx')\n",
    "column_name_1 = '地块名称'\n",
    "column_data_1 = df1[column_name_1].tolist()\n",
    "\n",
    "df2 = pd.read_excel('附件1.2.xlsx')\n",
    "column_name_2 = '作物名称'\n",
    "column_data_2 =df2[column_name_2].tolist()\n",
    "column_data_2"
   ],
   "metadata": {
    "collapsed": false,
    "ExecuteTime": {
     "end_time": "2024-09-07T07:14:01.763111Z",
     "start_time": "2024-09-07T07:14:01.709550Z"
    }
   },
   "id": "714b6ee195dc8290",
   "outputs": [
    {
     "data": {
      "text/plain": [
       "['黄豆',\n",
       " '黑豆',\n",
       " '红豆',\n",
       " '绿豆',\n",
       " '爬豆',\n",
       " '小麦',\n",
       " '玉米',\n",
       " '谷子',\n",
       " '高粱',\n",
       " '黍子',\n",
       " '荞麦',\n",
       " '南瓜',\n",
       " '红薯',\n",
       " '莜麦',\n",
       " '大麦',\n",
       " '水稻',\n",
       " '豇豆',\n",
       " '刀豆',\n",
       " '芸豆',\n",
       " '土豆',\n",
       " '西红柿',\n",
       " '茄子',\n",
       " '菠菜 ',\n",
       " '青椒',\n",
       " '菜花',\n",
       " '包菜',\n",
       " '油麦菜',\n",
       " '小青菜',\n",
       " '黄瓜',\n",
       " '生菜 ',\n",
       " '辣椒',\n",
       " '空心菜',\n",
       " '黄心菜',\n",
       " '芹菜',\n",
       " '大白菜',\n",
       " '白萝卜',\n",
       " '红萝卜',\n",
       " '榆黄菇',\n",
       " '香菇',\n",
       " '白灵菇',\n",
       " '羊肚菌',\n",
       " nan,\n",
       " '(1) 水浇地的第一季通常是在每年的3月至6月前后，第二季是在7月至10月前后。',\n",
       " '(2) 普通大棚的第一季通常是在每年的5月至9月前后，第二季是在9月至下一年4月前后。',\n",
       " '(3) 智慧大棚的第一季通常是在每年的3月至7月前后，第二季是在8月至下一年的2月前后。']"
      ]
     },
     "execution_count": 6,
     "metadata": {},
     "output_type": "execute_result"
    }
   ],
   "execution_count": 6
  },
  {
   "cell_type": "code",
   "source": [
    "years = [1,2,3,4,5,6,7]  # 2024到2030年\n",
    "seasons = [1, 2]  # 两个种植季节\n",
    "crops = list(range(1, 42))  # 41种作物\n",
    "fields = list(range(1, 55))  # 54块地"
   ],
   "metadata": {
    "collapsed": false,
    "ExecuteTime": {
     "end_time": "2024-09-07T07:14:04.573037Z",
     "start_time": "2024-09-07T07:14:04.570341Z"
    }
   },
   "id": "a24b4e85dfd1b044",
   "outputs": [],
   "execution_count": 7
  },
  {
   "cell_type": "code",
   "source": [
    "\n",
    "\n",
    "# 定义决策变量，X[i][j][k] 表示第 i 作物在第 j 地块的第 k 季度种植面积\n",
    "X = LpVariable.dicts(\"X\", (crops, fields, seasons, years), lowBound=0, cat='Continuous')"
   ],
   "metadata": {
    "collapsed": false,
    "ExecuteTime": {
     "end_time": "2024-09-07T07:14:05.992703Z",
     "start_time": "2024-09-07T07:14:05.868194Z"
    }
   },
   "id": "fb66d6811c15db9c",
   "outputs": [],
   "execution_count": 8
  },
  {
   "cell_type": "code",
   "source": [
    "df3 = pd.read_excel('./附件2.2.xlsx')\n",
    "\n",
    "npyields = np.zeros((42,55,3))\n",
    "npcosts = np.zeros((42,55,3))\n",
    "# 遍历每一行并提取所需的列\n",
    "for index, row in df3.iterrows():\n",
    "    crop_id = row['作物编号']        # 提取作物编号\n",
    "    plot_type = row['地块类型']      # 提取地块类型\n",
    "    planting_season = row['种植季次']  # 提取种植季次\n",
    "    yield_per_acre = row['亩产量/斤']  # 提取亩产量\n",
    "    cost_per_acre = row['种植成本/(元/亩)']\n",
    "    if plot_type == '平旱地':\n",
    "        listtemp1=[1,2,3,4,5,6]\n",
    "    elif plot_type == '梯田':\n",
    "        listtemp1=[7,8,9,10,11,12,13,14,15,16,17,18,19,20]\n",
    "    elif plot_type == '山坡地':\n",
    "        listtemp1=[21,22,23,24,25,26]\n",
    "    elif plot_type == '水浇地':\n",
    "        listtemp1=[27,28,29,30,31,32,33,34]\n",
    "    elif plot_type == '普通大棚':\n",
    "        listtemp1=[35,36,37,38,39,40,41,42,43,44,45,46,47,48,49,50]\n",
    "    elif plot_type == '智慧大棚':\n",
    "        listtemp1=[51,52,53,54]\n",
    "\n",
    "    if planting_season=='单季' or planting_season=='第一季':\n",
    "        ps=1\n",
    "    else:\n",
    "        ps=2\n",
    "    for t in listtemp1:\n",
    "        npyields[crop_id,t,ps]=yield_per_acre\n",
    "        npcosts[crop_id,t,ps]=cost_per_acre\n",
    "costs=npcosts.tolist()\n",
    "yields=npyields.tolist()"
   ],
   "metadata": {
    "collapsed": false,
    "ExecuteTime": {
     "end_time": "2024-09-07T07:14:55.202189Z",
     "start_time": "2024-09-07T07:14:55.153171Z"
    }
   },
   "id": "5ce88fc9afc2888b",
   "outputs": [
    {
     "ename": "IndexError",
     "evalue": "only integers, slices (`:`), ellipsis (`...`), numpy.newaxis (`None`) and integer or boolean arrays are valid indices",
     "output_type": "error",
     "traceback": [
      "\u001B[1;31m---------------------------------------------------------------------------\u001B[0m",
      "\u001B[1;31mIndexError\u001B[0m                                Traceback (most recent call last)",
      "Cell \u001B[1;32mIn[11], line 30\u001B[0m\n\u001B[0;32m     28\u001B[0m         ps\u001B[38;5;241m=\u001B[39m\u001B[38;5;241m2\u001B[39m\n\u001B[0;32m     29\u001B[0m     \u001B[38;5;28;01mfor\u001B[39;00m t \u001B[38;5;129;01min\u001B[39;00m listtemp1:\n\u001B[1;32m---> 30\u001B[0m         \u001B[43mnpyields\u001B[49m\u001B[43m[\u001B[49m\u001B[43mcrop_id\u001B[49m\u001B[43m,\u001B[49m\u001B[43mt\u001B[49m\u001B[43m,\u001B[49m\u001B[43mps\u001B[49m\u001B[43m]\u001B[49m\u001B[38;5;241m=\u001B[39myield_per_acre\n\u001B[0;32m     31\u001B[0m         npcosts[crop_id,t,ps]\u001B[38;5;241m=\u001B[39mcost_per_acre\n\u001B[0;32m     32\u001B[0m costs\u001B[38;5;241m=\u001B[39mnpcosts\u001B[38;5;241m.\u001B[39mtolist()\n",
      "\u001B[1;31mIndexError\u001B[0m: only integers, slices (`:`), ellipsis (`...`), numpy.newaxis (`None`) and integer or boolean arrays are valid indices"
     ]
    }
   ],
   "execution_count": 11
  },
  {
   "cell_type": "code",
   "source": [
    "\n",
    "df4 = pd.read_excel('/home/maxdmx/math-China/Ec.xlsx')\n",
    "\n",
    "column_name_3 = '作物编号'\n",
    "column_name_4 = '2023总产量'\n",
    "column_data_3 = df4[column_name_3].tolist()\n",
    "column_data_4 = df4[column_name_4].tolist()\n",
    "npexpected_sales=np.zeros(42)\n",
    "for i,j in zip(column_data_3,column_data_4):\n",
    "    npexpected_sales[i]=j\n",
    "expected_sales=npexpected_sales.tolist()"
   ],
   "metadata": {
    "collapsed": false
   },
   "id": "8e8d156b4d9fb593",
   "outputs": [],
   "execution_count": null
  },
  {
   "cell_type": "code",
   "source": [
    "\n",
    "\n",
    "df5 = pd.read_excel('/home/maxdmx/math-China/updated_附件2(2)1.xlsx')\n",
    "column_name_5 = '作物编号'\n",
    "column_name_6 = '销售单价平均值/(元/斤)'\n",
    "column_data_5 = df5[column_name_5].tolist()\n",
    "column_data_5 = column_data_5[:-18]\n",
    "column_data_6 = df5[column_name_6].tolist()\n",
    "column_data_6 = column_data_6[:-18]\n",
    "npprices=np.zeros(42)\n",
    "for i,j in zip(column_data_5,column_data_6):\n",
    "    npprices[i]=j\n",
    "prices=npprices.tolist()"
   ],
   "metadata": {
    "collapsed": false
   },
   "id": "264eec60c211c46d",
   "outputs": [],
   "execution_count": null
  },
  {
   "cell_type": "code",
   "source": [
    "# 目标函数1: 滞销浪费情况下的利润最大化\n",
    "model += lpSum([lpSum([0.8*lpSum([lpSum([yields[c] [l][ s] * X[c][l][s][y] for l in fields]) for s in seasons])*prices[c]-lpSum([lpSum([costs[c][l][ s] * X[c][l][s][y] for l in fields]) for s in seasons])for c in crops])for y in years])"
   ],
   "metadata": {
    "collapsed": false
   },
   "id": "b29086f45429e2fe",
   "outputs": [],
   "execution_count": null
  },
  {
   "cell_type": "code",
   "source": [
    "data = pd.read_excel('/home/maxdmx/math-China/附件1(1).xlsx')\n",
    "field_areas = data['地块面积/亩'].to_numpy()\n",
    "field_areas = np.insert(field_areas, 0, 0)\n",
    "field_areas"
   ],
   "metadata": {
    "collapsed": false
   },
   "id": "51baf0f0f9a754b8",
   "outputs": [],
   "execution_count": null
  },
  {
   "cell_type": "code",
   "source": [
    "# 约束条件1: 作物种植面积不能超过地块总面积\n",
    "\n",
    "for y in years:\n",
    "    for s in seasons:\n",
    "        for l in fields:\n",
    "            model += lpSum([X[c][l][s][y] for c in crops]) <= field_areas[l]*0.8"
   ],
   "metadata": {
    "collapsed": false
   },
   "id": "7d92a9cc2e163ee2",
   "outputs": [],
   "execution_count": null
  },
  {
   "cell_type": "code",
   "source": [
    "# 约束条件2: 每个地块三年内至少种一次豆类作物\n",
    "# beans1 = [1, 2, 3, 4, 5]\n",
    "# for l in (1,27):\n",
    "#     for y in years[:-2]:\n",
    "#         model += lpSum([lpSum([X[bean][l][1][y + i] for i in range(0,3)])for bean in beans1])>=field_areas[l]\n",
    "# beans2 = [16,17,18]\n",
    "# for l in (27,42):\n",
    "#     for y in years[:-2]:\n",
    "#         model += lpSum([lpSum([lpSum([X[bean][l][s][y + i]for i in range(0,3)]) for bean in beans2]) for s in seasons])>=0.001\n",
    "\n",
    "# # 约束条件2: 每个地块三年内至少种一次豆类作物\n",
    "# beans = [1, 2, 3, 4, 5, 17, 18, 19] \n",
    "# for l in fields:\n",
    "#     for s in seasons:\n",
    "#         for y in years[:-2]:\n",
    "#             model += lpSum([X[bean][l][s][y + i] for bean in beans for i in range(3)])>=field_areas[l]"
   ],
   "metadata": {
    "collapsed": false
   },
   "id": "7496663edabac666",
   "outputs": [],
   "execution_count": null
  },
  {
   "cell_type": "code",
   "source": [
    "#约束条件4:种植面积不能太小\n",
    "#定义B数组           \n",
    "B = LpVariable.dicts(\"B\", (crops, fields, seasons, years), cat = 'Binary')\n",
    "# \n",
    "for c in crops:\n",
    "    for l in fields:\n",
    "        for s in seasons:\n",
    "            for y in years:\n",
    "                if X[c][l][s][y] >= 0.001:\n",
    "                    B[c][l][s][y] = 1\n",
    "                else:\n",
    "                    B[c][l][s][y] = 0\n",
    "\n",
    "for l in fields:\n",
    "    for s in seasons:\n",
    "        for y in years:\n",
    "            model+= lpSum([X[c][l][s][y]*B[c][l][s][y] for c in crops])>=0.3"
   ],
   "metadata": {
    "collapsed": false
   },
   "id": "cd6fe72d0e6c9631",
   "outputs": [],
   "execution_count": null
  },
  {
   "cell_type": "code",
   "source": [
    "# 约束条件3: 分散性约束，某个作物不能在太多地块种植\n",
    "# max_field_count = 6  # 每个作物每季最多种6个地块\n",
    "# for y in years:\n",
    "#     for s in seasons:\n",
    "#         for c in crops:\n",
    "#             model += lpSum([B[c][l][s][y] for l in fields]) <= max_field_count"
   ],
   "metadata": {
    "collapsed": false
   },
   "id": "a2cb814f6bf28e8e",
   "outputs": [],
   "execution_count": null
  },
  {
   "cell_type": "code",
   "source": [
    "# 约束条件5:轮作约束\n",
    "# 对于平旱地\n",
    "# for c in range(1,16):\n",
    "#     for l in range(1,27):\n",
    "#         for y in range(1,8):\n",
    "#             model += X[c][l][1][y]*X[c][l][1][y+1] == 0\n",
    "# #对于智慧大棚\n",
    "# for c in range(1,16):\n",
    "#     for l in range(51,55):\n",
    "#         for y in range(1,8):\n",
    "#             model += X[c][l][1][y]*X[c][l][1][y+1] +X[c][l][2][y]*X[c][l][2][y+1] == 0\n",
    "\n",
    "# 约束条件5:轮作约束\n",
    "# 对于平旱地\n",
    "# for c in range(1,16):\n",
    "#     for l in range(1,27):\n",
    "#         for y in range(1,7):\n",
    "#             model += X[c][l][1][y]+X[c][l][1][y+1] <= field_areas[l]\n",
    "# # #对于智慧大棚\n",
    "# for c in range(1,16):\n",
    "#     for l in range(51,55):\n",
    "#         for y in range(1,7):\n",
    "#             model += X[c][l][1][y]+X[c][l][1][y+1] +X[c][l][2][y]+X[c][l][2][y+1] <=field_areas[l]\n",
    "# 约束条件5:轮作约束\n",
    "# 对于平旱地\n",
    "for c in range(1,16):\n",
    "    for l in range(1,27):\n",
    "        for y in range(1,7):\n",
    "            model += X[c][l][1][y]+X[c][l][1][y+1] <= field_areas[l]\n",
    "# #对于智慧大棚\n",
    "for c in range(1,16):\n",
    "    for l in range(51,55):\n",
    "        for y in range(1,7):\n",
    "            model += X[c][l][1][y]+X[c][l][1][y+1]  <=field_areas[l]\n",
    "            model +=X[c][l][2][y]+X[c][l][1][y]<=field_areas[l]\n",
    "            model +=X[c][l][2][y]+X[c][l][2][y+1]<=field_areas[l]"
   ],
   "metadata": {
    "collapsed": false
   },
   "id": "9a89b77f38f71c0b",
   "outputs": [],
   "execution_count": null
  },
  {
   "cell_type": "code",
   "source": [
    "# 种植类别约束\n",
    "# 对于平旱地，梯田，山坡:\n",
    "for c in range(1,16):\n",
    "    for l in range(1,27):\n",
    "            for y in years:\n",
    "                model += X[c][l][ 2][ y] == 0 \n",
    "\n",
    "for c in range(17,42):\n",
    "     for l in range(1,27):\n",
    "          for s in range(1,3):\n",
    "            for y in years:\n",
    "                model += X[c][l][ s][ y] == 0 "
   ],
   "metadata": {
    "collapsed": false
   },
   "id": "babda5b7e2ff9cab",
   "outputs": [],
   "execution_count": null
  },
  {
   "cell_type": "code",
   "source": [
    "\n",
    "# 对于水浇地:\n",
    "for l in range(27,35):\n",
    "     for y in years:\n",
    "          for c in range(1,17):\n",
    "              model += X[c][l][ 1][ y]==0\n",
    "          for c in range(35,42):\n",
    "              model += X[c][l][ 1][ y]==0\n",
    "          for c in range(1,35):\n",
    "               model += X[c][l][ 2][ y]==0\n",
    "          for c in range(38,42):\n",
    "               model += X[c][l][ 2][ y]==0\n",
    "#对于普通大棚类:\n",
    "for l in range(35,51):\n",
    "     for y in years:\n",
    "          for c in range(1,17):\n",
    "              model += X[c][l][1][y]==0\n",
    "          for c in range(35,42):\n",
    "              model += X[c][l][ 1][ y]==0\n",
    "          for c in range(1,38):\n",
    "              model += X[c][l][ 2][ y]==0\n",
    "#对于智慧大棚类:\n",
    "for l in range(51,55):\n",
    "     for s in range(1,3):\n",
    "        for y in years:\n",
    "             for c in range(1,17):\n",
    "                 model += X[c][l][ s][ y]==0\n",
    "             for c in range(35,42):\n",
    "                 model += X[c][l][ s][ y]==0 "
   ],
   "metadata": {
    "collapsed": false
   },
   "id": "d770783ac5dd3c6",
   "outputs": [],
   "execution_count": null
  },
  {
   "cell_type": "code",
   "source": [
    "# for l in range(0,55):\n",
    "#     for s in range(0,3):\n",
    "#         for y in range(0,8):\n",
    "#             model += X[0][l][s][y]==0\n",
    "# for c in range(0,42):\n",
    "#     for s in range(0,3):\n",
    "#         for y in range(0,8):\n",
    "#             model += X[c][0][s][y]==0\n",
    "# for l in range(0,55):\n",
    "#     for c in range(0,42):\n",
    "#         for y in range(0,8):\n",
    "#             model += X[c][l][0][y]==0\n",
    "# for l in range(0,55):\n",
    "#     for s in range(0,3):\n",
    "#         for c in range(0,42):\n",
    "#             model += X[0][l][s][0]==0"
   ],
   "metadata": {
    "collapsed": false
   },
   "id": "9cf31b0e6ada6ef",
   "outputs": [],
   "execution_count": null
  },
  {
   "cell_type": "code",
   "source": [
    "model.solve()"
   ],
   "metadata": {
    "collapsed": false
   },
   "id": "e0cad74e780154f5",
   "outputs": [],
   "execution_count": null
  },
  {
   "cell_type": "code",
   "source": [
    "# 假设 crops, fields, seasons, years 是已定义的作物、地块、季节和年份集合\n",
    "for c in crops:\n",
    "    for l in fields:\n",
    "        for s in seasons:\n",
    "            for y in years:\n",
    "                # 打印变量名称和求解后的值\n",
    "                print(f\"X[{c}][{l}][{s}][{y}] = {X[c][l][s][y].varValue}\")\n"
   ],
   "metadata": {
    "collapsed": false
   },
   "id": "9c8a705feeed332b",
   "outputs": [],
   "execution_count": null
  },
  {
   "cell_type": "code",
   "source": [],
   "metadata": {
    "collapsed": false
   },
   "id": "7e229ecd4394f74c",
   "outputs": [],
   "execution_count": null
  }
 ],
 "metadata": {
  "kernelspec": {
   "display_name": "Python 3",
   "language": "python",
   "name": "python3"
  },
  "language_info": {
   "codemirror_mode": {
    "name": "ipython",
    "version": 2
   },
   "file_extension": ".py",
   "mimetype": "text/x-python",
   "name": "python",
   "nbconvert_exporter": "python",
   "pygments_lexer": "ipython2",
   "version": "2.7.6"
  }
 },
 "nbformat": 4,
 "nbformat_minor": 5
}
